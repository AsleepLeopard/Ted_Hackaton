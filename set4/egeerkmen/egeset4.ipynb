{
  "nbformat": 4,
  "nbformat_minor": 0,
  "metadata": {
    "colab": {
      "provenance": [],
      "authorship_tag": "ABX9TyPu9W0INKYeG28JMMYLrCY4",
      "include_colab_link": true
    },
    "kernelspec": {
      "name": "python3",
      "display_name": "Python 3"
    },
    "language_info": {
      "name": "python"
    }
  },
  "cells": [
    {
      "cell_type": "markdown",
      "metadata": {
        "id": "view-in-github",
        "colab_type": "text"
      },
      "source": [
        "<a href=\"https://colab.research.google.com/github/AsleepLeopard/Ted_Hackaton/blob/main/set4/egeerkmen/egeset4.ipynb\" target=\"_parent\"><img src=\"https://colab.research.google.com/assets/colab-badge.svg\" alt=\"Open In Colab\"/></a>"
      ]
    },
    {
      "cell_type": "code",
      "execution_count": 1,
      "metadata": {
        "colab": {
          "base_uri": "https://localhost:8080/"
        },
        "id": "UA130wlp-IzR",
        "outputId": "9a38e3c3-cc47-4eec-aa80-a8d16d6b7210"
      },
      "outputs": [
        {
          "output_type": "stream",
          "name": "stdout",
          "text": [
            "Requirement already satisfied: beautifulsoup4 in /usr/local/lib/python3.11/dist-packages (4.13.4)\n",
            "Requirement already satisfied: soupsieve>1.2 in /usr/local/lib/python3.11/dist-packages (from beautifulsoup4) (2.6)\n",
            "Requirement already satisfied: typing-extensions>=4.0.0 in /usr/local/lib/python3.11/dist-packages (from beautifulsoup4) (4.13.2)\n"
          ]
        }
      ],
      "source": [
        "# prompt: !pip install beautifulsoup4\n",
        "\n",
        "!pip install beautifulsoup4\n"
      ]
    },
    {
      "cell_type": "code",
      "source": [
        "def SandClock(x):\n",
        "    print(\"#######\")\n",
        "    print(\" #####\")\n",
        "    print(\"  ###\")\n",
        "    print(\"   #\")\n",
        "    print(\"  ###\")\n",
        "    print(\" #####\")\n",
        "    print(\"#######\")\n",
        "SandClock(1)"
      ],
      "metadata": {
        "colab": {
          "base_uri": "https://localhost:8080/"
        },
        "id": "bBKxTZjGZgtz",
        "outputId": "d224162c-422a-49b6-f0a6-1183cde02c56"
      },
      "execution_count": 1,
      "outputs": [
        {
          "output_type": "stream",
          "name": "stdout",
          "text": [
            "#######\n",
            " #####\n",
            "  ###\n",
            "   #\n",
            "  ###\n",
            " #####\n",
            "#######\n"
          ]
        }
      ]
    }
  ]
}